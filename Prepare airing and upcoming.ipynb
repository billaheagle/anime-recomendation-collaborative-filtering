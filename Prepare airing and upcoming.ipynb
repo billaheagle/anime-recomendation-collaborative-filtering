{
 "cells": [
  {
   "cell_type": "code",
   "execution_count": 1,
   "metadata": {},
   "outputs": [],
   "source": [
    "import numpy as np \n",
    "import pandas as pd "
   ]
  },
  {
   "cell_type": "code",
   "execution_count": 2,
   "metadata": {},
   "outputs": [],
   "source": [
    "airing = pd.read_csv('airing.csv')"
   ]
  },
  {
   "cell_type": "code",
   "execution_count": 3,
   "metadata": {},
   "outputs": [
    {
     "data": {
      "text/html": [
       "<div>\n",
       "<style scoped>\n",
       "    .dataframe tbody tr th:only-of-type {\n",
       "        vertical-align: middle;\n",
       "    }\n",
       "\n",
       "    .dataframe tbody tr th {\n",
       "        vertical-align: top;\n",
       "    }\n",
       "\n",
       "    .dataframe thead th {\n",
       "        text-align: right;\n",
       "    }\n",
       "</style>\n",
       "<table border=\"1\" class=\"dataframe\">\n",
       "  <thead>\n",
       "    <tr style=\"text-align: right;\">\n",
       "      <th></th>\n",
       "      <th>anime_id</th>\n",
       "      <th>name</th>\n",
       "      <th>genre</th>\n",
       "      <th>type</th>\n",
       "      <th>episode</th>\n",
       "      <th>rating</th>\n",
       "      <th>members</th>\n",
       "      <th>status</th>\n",
       "      <th>date</th>\n",
       "    </tr>\n",
       "  </thead>\n",
       "  <tbody>\n",
       "    <tr>\n",
       "      <td>0</td>\n",
       "      <td>NaN</td>\n",
       "      <td>Kimetsu no Yaiba Movie: Mugen Ressha-hen</td>\n",
       "      <td>Action, Historical, Demons, Supernatural, Shounen</td>\n",
       "      <td>Movie</td>\n",
       "      <td>1.0</td>\n",
       "      <td>8.68</td>\n",
       "      <td>263,080</td>\n",
       "      <td>Airing</td>\n",
       "      <td>12/14/2020</td>\n",
       "    </tr>\n",
       "    <tr>\n",
       "      <td>1</td>\n",
       "      <td>NaN</td>\n",
       "      <td>Haikyuu!!: To the Top 2nd Season</td>\n",
       "      <td>Comedy, Sports, Drama, School, Shounen</td>\n",
       "      <td>TV</td>\n",
       "      <td>12.0</td>\n",
       "      <td>8.54</td>\n",
       "      <td>247,481</td>\n",
       "      <td>Airing</td>\n",
       "      <td>12/14/2020</td>\n",
       "    </tr>\n",
       "    <tr>\n",
       "      <td>2</td>\n",
       "      <td>NaN</td>\n",
       "      <td>Tian Guan Ci Fu</td>\n",
       "      <td>Action, Adventure, Historical, Supernatural, D...</td>\n",
       "      <td>ONA</td>\n",
       "      <td>11.0</td>\n",
       "      <td>8.53</td>\n",
       "      <td>26,505</td>\n",
       "      <td>Airing</td>\n",
       "      <td>12/14/2020</td>\n",
       "    </tr>\n",
       "  </tbody>\n",
       "</table>\n",
       "</div>"
      ],
      "text/plain": [
       "   anime_id                                      name  \\\n",
       "0       NaN  Kimetsu no Yaiba Movie: Mugen Ressha-hen   \n",
       "1       NaN          Haikyuu!!: To the Top 2nd Season   \n",
       "2       NaN                           Tian Guan Ci Fu   \n",
       "\n",
       "                                               genre   type  episode  rating  \\\n",
       "0  Action, Historical, Demons, Supernatural, Shounen  Movie      1.0    8.68   \n",
       "1             Comedy, Sports, Drama, School, Shounen     TV     12.0    8.54   \n",
       "2  Action, Adventure, Historical, Supernatural, D...    ONA     11.0    8.53   \n",
       "\n",
       "   members  status        date  \n",
       "0  263,080  Airing  12/14/2020  \n",
       "1  247,481  Airing  12/14/2020  \n",
       "2   26,505  Airing  12/14/2020  "
      ]
     },
     "execution_count": 3,
     "metadata": {},
     "output_type": "execute_result"
    }
   ],
   "source": [
    "airing.head(3)"
   ]
  },
  {
   "cell_type": "code",
   "execution_count": 4,
   "metadata": {},
   "outputs": [
    {
     "data": {
      "text/plain": [
       "(116, 9)"
      ]
     },
     "execution_count": 4,
     "metadata": {},
     "output_type": "execute_result"
    }
   ],
   "source": [
    "airing.shape"
   ]
  },
  {
   "cell_type": "code",
   "execution_count": 5,
   "metadata": {},
   "outputs": [
    {
     "data": {
      "text/plain": [
       "anime_id    116\n",
       "name          0\n",
       "genre         0\n",
       "type          0\n",
       "episode      27\n",
       "rating       46\n",
       "members       0\n",
       "status        0\n",
       "date          0\n",
       "dtype: int64"
      ]
     },
     "execution_count": 5,
     "metadata": {},
     "output_type": "execute_result"
    }
   ],
   "source": [
    "airing.isna().sum()"
   ]
  },
  {
   "cell_type": "code",
   "execution_count": 6,
   "metadata": {},
   "outputs": [],
   "source": [
    "airing = airing.dropna(subset= ['rating', 'episode'])"
   ]
  },
  {
   "cell_type": "code",
   "execution_count": 7,
   "metadata": {},
   "outputs": [
    {
     "data": {
      "text/html": [
       "<div>\n",
       "<style scoped>\n",
       "    .dataframe tbody tr th:only-of-type {\n",
       "        vertical-align: middle;\n",
       "    }\n",
       "\n",
       "    .dataframe tbody tr th {\n",
       "        vertical-align: top;\n",
       "    }\n",
       "\n",
       "    .dataframe thead th {\n",
       "        text-align: right;\n",
       "    }\n",
       "</style>\n",
       "<table border=\"1\" class=\"dataframe\">\n",
       "  <thead>\n",
       "    <tr style=\"text-align: right;\">\n",
       "      <th></th>\n",
       "      <th>anime_id</th>\n",
       "      <th>name</th>\n",
       "      <th>genre</th>\n",
       "      <th>type</th>\n",
       "      <th>episode</th>\n",
       "      <th>rating</th>\n",
       "      <th>members</th>\n",
       "      <th>status</th>\n",
       "      <th>date</th>\n",
       "    </tr>\n",
       "  </thead>\n",
       "  <tbody>\n",
       "    <tr>\n",
       "      <td>0</td>\n",
       "      <td>1</td>\n",
       "      <td>Kimetsu no Yaiba Movie: Mugen Ressha-hen</td>\n",
       "      <td>Action, Historical, Demons, Supernatural, Shounen</td>\n",
       "      <td>Movie</td>\n",
       "      <td>1.0</td>\n",
       "      <td>8.68</td>\n",
       "      <td>263,080</td>\n",
       "      <td>Airing</td>\n",
       "      <td>12/14/2020</td>\n",
       "    </tr>\n",
       "    <tr>\n",
       "      <td>1</td>\n",
       "      <td>2</td>\n",
       "      <td>Haikyuu!!: To the Top 2nd Season</td>\n",
       "      <td>Comedy, Sports, Drama, School, Shounen</td>\n",
       "      <td>TV</td>\n",
       "      <td>12.0</td>\n",
       "      <td>8.54</td>\n",
       "      <td>247,481</td>\n",
       "      <td>Airing</td>\n",
       "      <td>12/14/2020</td>\n",
       "    </tr>\n",
       "    <tr>\n",
       "      <td>2</td>\n",
       "      <td>3</td>\n",
       "      <td>Tian Guan Ci Fu</td>\n",
       "      <td>Action, Adventure, Historical, Supernatural, D...</td>\n",
       "      <td>ONA</td>\n",
       "      <td>11.0</td>\n",
       "      <td>8.53</td>\n",
       "      <td>26,505</td>\n",
       "      <td>Airing</td>\n",
       "      <td>12/14/2020</td>\n",
       "    </tr>\n",
       "  </tbody>\n",
       "</table>\n",
       "</div>"
      ],
      "text/plain": [
       "   anime_id                                      name  \\\n",
       "0         1  Kimetsu no Yaiba Movie: Mugen Ressha-hen   \n",
       "1         2          Haikyuu!!: To the Top 2nd Season   \n",
       "2         3                           Tian Guan Ci Fu   \n",
       "\n",
       "                                               genre   type  episode  rating  \\\n",
       "0  Action, Historical, Demons, Supernatural, Shounen  Movie      1.0    8.68   \n",
       "1             Comedy, Sports, Drama, School, Shounen     TV     12.0    8.54   \n",
       "2  Action, Adventure, Historical, Supernatural, D...    ONA     11.0    8.53   \n",
       "\n",
       "   members  status        date  \n",
       "0  263,080  Airing  12/14/2020  \n",
       "1  247,481  Airing  12/14/2020  \n",
       "2   26,505  Airing  12/14/2020  "
      ]
     },
     "execution_count": 7,
     "metadata": {},
     "output_type": "execute_result"
    }
   ],
   "source": [
    "airing['anime_id'] = airing.index + 1\n",
    "airing.head(3)"
   ]
  },
  {
   "cell_type": "code",
   "execution_count": 8,
   "metadata": {},
   "outputs": [],
   "source": [
    "def getGenre(data):\n",
    "    genre = []\n",
    "    for x in data:\n",
    "        split = x.split(\", \")\n",
    "        genre = list(set(genre) | set(split))\n",
    "    \n",
    "    return genre"
   ]
  },
  {
   "cell_type": "code",
   "execution_count": 9,
   "metadata": {},
   "outputs": [],
   "source": [
    "def strToArray(data):\n",
    "    genre = []\n",
    "    for x in data:\n",
    "        split = x.split(\", \")\n",
    "        genre.append(x)\n",
    "    \n",
    "    return genre"
   ]
  },
  {
   "cell_type": "code",
   "execution_count": 10,
   "metadata": {},
   "outputs": [],
   "source": [
    "#airing['arrayGenre'] = strToArray(airing['genre'])"
   ]
  },
  {
   "cell_type": "code",
   "execution_count": 11,
   "metadata": {},
   "outputs": [
    {
     "data": {
      "text/html": [
       "<div>\n",
       "<style scoped>\n",
       "    .dataframe tbody tr th:only-of-type {\n",
       "        vertical-align: middle;\n",
       "    }\n",
       "\n",
       "    .dataframe tbody tr th {\n",
       "        vertical-align: top;\n",
       "    }\n",
       "\n",
       "    .dataframe thead th {\n",
       "        text-align: right;\n",
       "    }\n",
       "</style>\n",
       "<table border=\"1\" class=\"dataframe\">\n",
       "  <thead>\n",
       "    <tr style=\"text-align: right;\">\n",
       "      <th></th>\n",
       "      <th>anime_id</th>\n",
       "      <th>name</th>\n",
       "      <th>genre</th>\n",
       "      <th>type</th>\n",
       "      <th>episode</th>\n",
       "      <th>rating</th>\n",
       "      <th>members</th>\n",
       "      <th>status</th>\n",
       "      <th>date</th>\n",
       "    </tr>\n",
       "  </thead>\n",
       "  <tbody>\n",
       "    <tr>\n",
       "      <td>0</td>\n",
       "      <td>1</td>\n",
       "      <td>Kimetsu no Yaiba Movie: Mugen Ressha-hen</td>\n",
       "      <td>Action, Historical, Demons, Supernatural, Shounen</td>\n",
       "      <td>Movie</td>\n",
       "      <td>1.0</td>\n",
       "      <td>8.68</td>\n",
       "      <td>263,080</td>\n",
       "      <td>Airing</td>\n",
       "      <td>12/14/2020</td>\n",
       "    </tr>\n",
       "    <tr>\n",
       "      <td>1</td>\n",
       "      <td>2</td>\n",
       "      <td>Haikyuu!!: To the Top 2nd Season</td>\n",
       "      <td>Comedy, Sports, Drama, School, Shounen</td>\n",
       "      <td>TV</td>\n",
       "      <td>12.0</td>\n",
       "      <td>8.54</td>\n",
       "      <td>247,481</td>\n",
       "      <td>Airing</td>\n",
       "      <td>12/14/2020</td>\n",
       "    </tr>\n",
       "    <tr>\n",
       "      <td>2</td>\n",
       "      <td>3</td>\n",
       "      <td>Tian Guan Ci Fu</td>\n",
       "      <td>Action, Adventure, Historical, Supernatural, D...</td>\n",
       "      <td>ONA</td>\n",
       "      <td>11.0</td>\n",
       "      <td>8.53</td>\n",
       "      <td>26,505</td>\n",
       "      <td>Airing</td>\n",
       "      <td>12/14/2020</td>\n",
       "    </tr>\n",
       "  </tbody>\n",
       "</table>\n",
       "</div>"
      ],
      "text/plain": [
       "   anime_id                                      name  \\\n",
       "0         1  Kimetsu no Yaiba Movie: Mugen Ressha-hen   \n",
       "1         2          Haikyuu!!: To the Top 2nd Season   \n",
       "2         3                           Tian Guan Ci Fu   \n",
       "\n",
       "                                               genre   type  episode  rating  \\\n",
       "0  Action, Historical, Demons, Supernatural, Shounen  Movie      1.0    8.68   \n",
       "1             Comedy, Sports, Drama, School, Shounen     TV     12.0    8.54   \n",
       "2  Action, Adventure, Historical, Supernatural, D...    ONA     11.0    8.53   \n",
       "\n",
       "   members  status        date  \n",
       "0  263,080  Airing  12/14/2020  \n",
       "1  247,481  Airing  12/14/2020  \n",
       "2   26,505  Airing  12/14/2020  "
      ]
     },
     "execution_count": 11,
     "metadata": {},
     "output_type": "execute_result"
    }
   ],
   "source": [
    "airing.head(3)"
   ]
  },
  {
   "cell_type": "code",
   "execution_count": 12,
   "metadata": {},
   "outputs": [],
   "source": [
    "genres = getGenre(airing['genre'])"
   ]
  },
  {
   "cell_type": "code",
   "execution_count": 13,
   "metadata": {},
   "outputs": [
    {
     "name": "stdout",
     "output_type": "stream",
     "text": [
      "['Supernatural', 'Mystery', 'Drama', 'Green Monster Team', 'Fantasy', 'BigFireBird Animation', 'Sports', 'School', 'Parody', 'Game', 'Ecchi', 'Horror', 'Shounen', 'Dementia', 'Thriller', 'Military', 'Adventure', 'Sci-Fi', 'Comedy', 'Seinen', 'Slice of Life', 'Romance', 'Shoujo Ai', 'Magic', 'Historical', 'Psychological', 'Mecha', 'Action', 'Music', 'Demons', 'Super Power', 'Shounen Ai']\n"
     ]
    }
   ],
   "source": [
    "print(genres)"
   ]
  },
  {
   "cell_type": "code",
   "execution_count": 14,
   "metadata": {},
   "outputs": [],
   "source": [
    "c0 = ['Action', 'Drama', 'Fantasy', 'Romance', 'Shounen']\n",
    "c1 = ['Action', 'Romance', 'Drama', 'Supernatural', 'Fantasy']\n",
    "c2 = ['Action', 'Supernatural', 'Drama', 'Fantasy', 'Shounen']\n",
    "c3 = ['Action', ' Drama', ' Adventure', ' Sci-Fi', ' Comedy']"
   ]
  },
  {
   "cell_type": "code",
   "execution_count": 15,
   "metadata": {},
   "outputs": [],
   "source": [
    "#airing.loc[airing['arrayGenre'].isin(c0)]"
   ]
  },
  {
   "cell_type": "code",
   "execution_count": 16,
   "metadata": {},
   "outputs": [
    {
     "data": {
      "text/plain": [
       "anime_id      int64\n",
       "name         object\n",
       "genre        object\n",
       "type         object\n",
       "episode     float64\n",
       "rating      float64\n",
       "members      object\n",
       "status       object\n",
       "date         object\n",
       "dtype: object"
      ]
     },
     "execution_count": 16,
     "metadata": {},
     "output_type": "execute_result"
    }
   ],
   "source": [
    "airing.dtypes"
   ]
  },
  {
   "cell_type": "code",
   "execution_count": 17,
   "metadata": {},
   "outputs": [],
   "source": [
    "mask = airing.genre.apply(lambda x: any(item for item in c0 if item in x))\n",
    "df1 = airing[mask]"
   ]
  },
  {
   "cell_type": "code",
   "execution_count": 18,
   "metadata": {},
   "outputs": [
    {
     "data": {
      "text/plain": [
       "(38, 9)"
      ]
     },
     "execution_count": 18,
     "metadata": {},
     "output_type": "execute_result"
    }
   ],
   "source": [
    "df1.shape"
   ]
  },
  {
   "cell_type": "code",
   "execution_count": 19,
   "metadata": {},
   "outputs": [
    {
     "data": {
      "text/html": [
       "<div>\n",
       "<style scoped>\n",
       "    .dataframe tbody tr th:only-of-type {\n",
       "        vertical-align: middle;\n",
       "    }\n",
       "\n",
       "    .dataframe tbody tr th {\n",
       "        vertical-align: top;\n",
       "    }\n",
       "\n",
       "    .dataframe thead th {\n",
       "        text-align: right;\n",
       "    }\n",
       "</style>\n",
       "<table border=\"1\" class=\"dataframe\">\n",
       "  <thead>\n",
       "    <tr style=\"text-align: right;\">\n",
       "      <th></th>\n",
       "      <th>anime_id</th>\n",
       "      <th>name</th>\n",
       "      <th>genre</th>\n",
       "      <th>type</th>\n",
       "      <th>episode</th>\n",
       "      <th>rating</th>\n",
       "      <th>members</th>\n",
       "      <th>status</th>\n",
       "      <th>date</th>\n",
       "    </tr>\n",
       "  </thead>\n",
       "  <tbody>\n",
       "    <tr>\n",
       "      <td>0</td>\n",
       "      <td>1</td>\n",
       "      <td>Kimetsu no Yaiba Movie: Mugen Ressha-hen</td>\n",
       "      <td>Action, Historical, Demons, Supernatural, Shounen</td>\n",
       "      <td>Movie</td>\n",
       "      <td>1.0</td>\n",
       "      <td>8.68</td>\n",
       "      <td>263,080</td>\n",
       "      <td>Airing</td>\n",
       "      <td>12/14/2020</td>\n",
       "    </tr>\n",
       "    <tr>\n",
       "      <td>1</td>\n",
       "      <td>2</td>\n",
       "      <td>Haikyuu!!: To the Top 2nd Season</td>\n",
       "      <td>Comedy, Sports, Drama, School, Shounen</td>\n",
       "      <td>TV</td>\n",
       "      <td>12.0</td>\n",
       "      <td>8.54</td>\n",
       "      <td>247,481</td>\n",
       "      <td>Airing</td>\n",
       "      <td>12/14/2020</td>\n",
       "    </tr>\n",
       "    <tr>\n",
       "      <td>2</td>\n",
       "      <td>3</td>\n",
       "      <td>Tian Guan Ci Fu</td>\n",
       "      <td>Action, Adventure, Historical, Supernatural, D...</td>\n",
       "      <td>ONA</td>\n",
       "      <td>11.0</td>\n",
       "      <td>8.53</td>\n",
       "      <td>26,505</td>\n",
       "      <td>Airing</td>\n",
       "      <td>12/14/2020</td>\n",
       "    </tr>\n",
       "    <tr>\n",
       "      <td>3</td>\n",
       "      <td>4</td>\n",
       "      <td>Jujutsu Kaisen (TV)</td>\n",
       "      <td>Action, Horror, Demons, Supernatural, School, ...</td>\n",
       "      <td>TV</td>\n",
       "      <td>24.0</td>\n",
       "      <td>8.45</td>\n",
       "      <td>398,504</td>\n",
       "      <td>Airing</td>\n",
       "      <td>12/14/2020</td>\n",
       "    </tr>\n",
       "    <tr>\n",
       "      <td>4</td>\n",
       "      <td>5</td>\n",
       "      <td>Golden Kamuy 3rd Season</td>\n",
       "      <td>Action, Adventure, Historical, Seinen</td>\n",
       "      <td>TV</td>\n",
       "      <td>12.0</td>\n",
       "      <td>8.39</td>\n",
       "      <td>54,777</td>\n",
       "      <td>Airing</td>\n",
       "      <td>12/14/2020</td>\n",
       "    </tr>\n",
       "  </tbody>\n",
       "</table>\n",
       "</div>"
      ],
      "text/plain": [
       "   anime_id                                      name  \\\n",
       "0         1  Kimetsu no Yaiba Movie: Mugen Ressha-hen   \n",
       "1         2          Haikyuu!!: To the Top 2nd Season   \n",
       "2         3                           Tian Guan Ci Fu   \n",
       "3         4                       Jujutsu Kaisen (TV)   \n",
       "4         5                   Golden Kamuy 3rd Season   \n",
       "\n",
       "                                               genre   type  episode  rating  \\\n",
       "0  Action, Historical, Demons, Supernatural, Shounen  Movie      1.0    8.68   \n",
       "1             Comedy, Sports, Drama, School, Shounen     TV     12.0    8.54   \n",
       "2  Action, Adventure, Historical, Supernatural, D...    ONA     11.0    8.53   \n",
       "3  Action, Horror, Demons, Supernatural, School, ...     TV     24.0    8.45   \n",
       "4              Action, Adventure, Historical, Seinen     TV     12.0    8.39   \n",
       "\n",
       "   members  status        date  \n",
       "0  263,080  Airing  12/14/2020  \n",
       "1  247,481  Airing  12/14/2020  \n",
       "2   26,505  Airing  12/14/2020  \n",
       "3  398,504  Airing  12/14/2020  \n",
       "4   54,777  Airing  12/14/2020  "
      ]
     },
     "execution_count": 19,
     "metadata": {},
     "output_type": "execute_result"
    }
   ],
   "source": [
    "df1.head()"
   ]
  },
  {
   "cell_type": "code",
   "execution_count": null,
   "metadata": {},
   "outputs": [],
   "source": []
  }
 ],
 "metadata": {
  "kernelspec": {
   "display_name": "Python 3",
   "language": "python",
   "name": "python3"
  },
  "language_info": {
   "codemirror_mode": {
    "name": "ipython",
    "version": 3
   },
   "file_extension": ".py",
   "mimetype": "text/x-python",
   "name": "python",
   "nbconvert_exporter": "python",
   "pygments_lexer": "ipython3",
   "version": "3.7.4"
  }
 },
 "nbformat": 4,
 "nbformat_minor": 2
}
